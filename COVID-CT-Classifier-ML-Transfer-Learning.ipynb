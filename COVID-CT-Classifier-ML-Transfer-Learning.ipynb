{
 "cells": [
  {
   "cell_type": "markdown",
   "metadata": {
    "id": "Yfa6aOqdHzI5"
   },
   "source": [
    "## Covid-19 CT Scan Classification\n",
    "---"
   ]
  },
  {
   "cell_type": "markdown",
   "metadata": {
    "id": "aSZtjuaZH6VY"
   },
   "source": [
    "## Project Objectives:\n",
    "#### 1. A) Data Preprocessing: Loading data in train and test with labels according to folders. Setting a fix shape for image data. Some preprocess such as normalization, etc.. Flatten in order to use them on our model.\n",
    "#### 1. B) Model Initialization: SVM and Logistic regression. Loading and setting parameters. \n",
    "#### 1. C) Training our models: Measuring elapced time during the fitting process.\n",
    "#### 1. D) Testing our models: Evaluate and report performance metrics.\n",
    "#### 2. Using dimentionality reduction and see how the performance will change on our models.\n",
    "#### 3. CNN Transfer Learning\n",
    "---"
   ]
  },
  {
   "cell_type": "code",
   "execution_count": null,
   "metadata": {
    "id": "hxAz_4JZHr33"
   },
   "outputs": [],
   "source": [
    "import numpy as np\n",
    "import matplotlib.pyplot as plt\n",
    "import seaborn as sns\n",
    "import os\n",
    "import cv2\n",
    "\n",
    "from sklearn.preprocessing import StandardScaler\n",
    "from sklearn.svm import SVC\n",
    "from sklearn.linear_model import LogisticRegression\n",
    "from sklearn.model_selection import RandomizedSearchCV\n",
    "\n",
    "from sklearn.metrics import confusion_matrix\n",
    "from sklearn.metrics import accuracy_score\n",
    "\n",
    "from sklearn.decomposition import PCA\n",
    "from sklearn.manifold import TSNE\n",
    "from sklearn.preprocessing import StandardScaler\n",
    "\n",
    "from scipy.stats import uniform\n",
    "\n",
    "from sklearn.preprocessing import StandardScaler"
   ]
  },
  {
   "cell_type": "markdown",
   "metadata": {
    "id": "GaSEKHtLRKPc"
   },
   "source": [
    "### 1. A) Data Preprocessing: Loading data in train and test with labels according to folders. Setting a fix shape for image data. Some preprocess such as normalization, etc.. Flatten in order to use them on our model."
   ]
  },
  {
   "cell_type": "markdown",
   "metadata": {
    "id": "4h7O6lLRPUv_"
   },
   "source": [
    "#### Here we implement a function for reading, resizing, and normalizing our data. As it is nothing special with this and it is a simple imread, resize and normalization I used the same function that is available all over the internet.\n",
    "#### I chose 256 x 256 as a fixed size to resize all of our data because they were originally about this size and also I like everything to be in power of 2."
   ]
  },
  {
   "cell_type": "code",
   "execution_count": null,
   "metadata": {
    "id": "SmnkQN4PENXI"
   },
   "outputs": [],
   "source": [
    "''' \n",
    "A function for loading and normalizing images\n",
    "Copied from: medium.com\n",
    "'''\n",
    "\n",
    "def read_and_preprocess(img_path):\n",
    "    img = cv2.imread(img_path, cv2.IMREAD_GRAYSCALE)  # Reading the image with grayscale mode\n",
    "    img = cv2.resize(img, (256, 256))                 # Resizing\n",
    "    img = np.array(img, dtype='float32')              # Convert its datatype to float so we can have a number between 0 and 1\n",
    "    img = img/255                                     # Normalization (Range of 0 and 1)\n",
    "    return img"
   ]
  },
  {
   "cell_type": "markdown",
   "metadata": {
    "id": "41rmHwedQbVP"
   },
   "source": [
    "### labels:\n",
    "> #### 0 - Covid\n",
    "> #### 1 - Viral Pneumonia\n",
    "> #### 2 - Normal"
   ]
  },
  {
   "cell_type": "code",
   "execution_count": null,
   "metadata": {
    "id": "uADK_f6REjci"
   },
   "outputs": [],
   "source": [
    "X_train = [] # To store train images\n",
    "y_train = [] # To store train labels\n",
    "\n",
    "train_path = \"/content/drive/MyDrive/Covid19-dataset/train/\" # path containing training image samples"
   ]
  },
  {
   "cell_type": "markdown",
   "metadata": {
    "id": "5uEChCdrQtqX"
   },
   "source": [
    "#### This block is the most known lines of code which does the effort of reading folders in our data and uses os library to read files and adding them to the list we initiated to store images data (calls read_and_preprocess function) and also uses the first char in the name of folders to organize a list of labels in the list we initiate for that earlier."
   ]
  },
  {
   "cell_type": "code",
   "execution_count": null,
   "metadata": {
    "id": "WZHee4kEEloR"
   },
   "outputs": [],
   "source": [
    "for folder in os.scandir(train_path):\n",
    "    for entry in os.scandir(train_path + folder.name):\n",
    "\n",
    "        X_train.append(read_and_preprocess(train_path + folder.name + '/' + entry.name))\n",
    "        \n",
    "        if folder.name[0]=='C':\n",
    "            y_train.append(0)\n",
    "        elif folder.name[0]=='V':\n",
    "            y_train.append(1)\n",
    "        else:\n",
    "            y_train.append(2)"
   ]
  },
  {
   "cell_type": "markdown",
   "metadata": {
    "id": "FUw8rHY4SXJw"
   },
   "source": [
    "Then I converted our lists to numpy array as it is the most correct way to store data and passing them to ML models."
   ]
  },
  {
   "cell_type": "code",
   "execution_count": null,
   "metadata": {
    "colab": {
     "base_uri": "https://localhost:8080/"
    },
    "executionInfo": {
     "elapsed": 38,
     "status": "ok",
     "timestamp": 1644699846901,
     "user": {
      "displayName": "Arian Shaafi",
      "photoUrl": "https://lh3.googleusercontent.com/a-/AOh14Gh6vRTht4FZwoqRo8GUWj0T3UZt2r8duMm1Cexs3w=s64",
      "userId": "07327453613112313329"
     },
     "user_tz": -210
    },
    "id": "EWF6dAd3Ezzg",
    "outputId": "575ae22c-7735-4ee2-d04b-c81db0dfc5c4"
   },
   "outputs": [
    {
     "name": "stdout",
     "output_type": "stream",
     "text": [
      "(251, 256, 256)\n",
      "(251,)\n"
     ]
    }
   ],
   "source": [
    "X_train = np.array(X_train)\n",
    "print(X_train.shape)\n",
    "y_train = np.array(y_train)\n",
    "print(y_train.shape)"
   ]
  },
  {
   "cell_type": "markdown",
   "metadata": {
    "id": "UdIHnShsStC_"
   },
   "source": [
    "\n",
    "## We have more number of covid samples that Pneumonia and Normal"
   ]
  },
  {
   "cell_type": "code",
   "execution_count": null,
   "metadata": {
    "colab": {
     "base_uri": "https://localhost:8080/",
     "height": 298
    },
    "executionInfo": {
     "elapsed": 795,
     "status": "ok",
     "timestamp": 1644697918439,
     "user": {
      "displayName": "Arian Shaafi",
      "photoUrl": "https://lh3.googleusercontent.com/a-/AOh14Gh6vRTht4FZwoqRo8GUWj0T3UZt2r8duMm1Cexs3w=s64",
      "userId": "07327453613112313329"
     },
     "user_tz": -210
    },
    "id": "byX-kjI-FUXp",
    "outputId": "8392d1cd-67d1-41bd-82e2-c2f62ec9e8f6"
   },
   "outputs": [
    {
     "data": {
      "text/plain": [
       "<BarContainer object of 3 artists>"
      ]
     },
     "execution_count": 6,
     "metadata": {},
     "output_type": "execute_result"
    },
    {
     "data": {
      "image/png": "[encoded data removed]",
      "text/plain": [
       "<Figure size 432x288 with 1 Axes>"
      ]
     },
     "metadata": {
      "needs_background": "light"
     },
     "output_type": "display_data"
    }
   ],
   "source": [
    "covid_count = len(y_train[y_train==0])\n",
    "pneumonia_count = len(y_train[y_train==1])\n",
    "normal_count = len(y_train[y_train==2])\n",
    "\n",
    "plt.title(\"Train Images for Each Label\")\n",
    "plt.bar([\"Covid\", \"Viral Pneumonia\", \"Normal\"],[covid_count, pneumonia_count, normal_count])\n"
   ]
  },
  {
   "cell_type": "markdown",
   "metadata": {
    "id": "z_3-SVrbSvkr"
   },
   "source": [
    "### Visualizing some random samle to see what is going on in our data.\n"
   ]
  },
  {
   "cell_type": "code",
   "execution_count": null,
   "metadata": {
    "colab": {
     "base_uri": "https://localhost:8080/",
     "height": 341
    },
    "executionInfo": {
     "elapsed": 3080,
     "status": "ok",
     "timestamp": 1644697938910,
     "user": {
      "displayName": "Arian Shaafi",
      "photoUrl": "https://lh3.googleusercontent.com/a-/AOh14Gh6vRTht4FZwoqRo8GUWj0T3UZt2r8duMm1Cexs3w=s64",
      "userId": "07327453613112313329"
     },
     "user_tz": -210
    },
    "id": "5SDMZ5r8GLVh",
    "outputId": "46630ea5-b428-4e06-fc3b-6d93dfae03cf"
   },
   "outputs": [
    {
     "data": {
      "image/png": "[encoded data removed]",
      "text/plain": [
       "<Figure size 504x504 with 3 Axes>"
      ]
     },
     "metadata": {
      "needs_background": "light"
     },
     "output_type": "display_data"
    },
    {
     "data": {
      "image/png": "[encoded data removed]",
      "text/plain": [
       "<Figure size 504x504 with 3 Axes>"
      ]
     },
     "metadata": {
      "needs_background": "light"
     },
     "output_type": "display_data"
    }
   ],
   "source": [
    "import random\n",
    "\n",
    "title = {0:\"Covid\", 1:\"Viral Pneumonia\", 2:\"Normal\"}\n",
    "\n",
    "rows = 2\n",
    "columns = 3\n",
    "\n",
    "for i in range(2):\n",
    "    \n",
    "    fig = plt.figure(figsize=(7,7))\n",
    "    \n",
    "    fig.add_subplot(rows, columns, 1)\n",
    "    pos = random.randint(0, covid_count)\n",
    "    plt.imshow(X_train[pos], cmap='gray')\n",
    "    plt.title(title[y_train[pos]])\n",
    "    \n",
    "    fig.add_subplot(rows, columns, 2)\n",
    "    pos = random.randint(covid_count, covid_count+pneumonia_count)\n",
    "    plt.imshow(X_train[pos], cmap='gray')\n",
    "    plt.title(title[y_train[pos]])\n",
    "    \n",
    "    fig.add_subplot(rows, columns, 3)\n",
    "    pos = random.randint(covid_count+pneumonia_count, covid_count+pneumonia_count+normal_count)\n",
    "    plt.imshow(X_train[pos], cmap='gray')\n",
    "    plt.title(title[y_train[pos]])"
   ]
  },
  {
   "cell_type": "markdown",
   "metadata": {
    "id": "hFEi0cXKTNG-"
   },
   "source": [
    "### As our data is too small I did a little bit of augmentation which it is a simple horizontal flip."
   ]
  },
  {
   "cell_type": "code",
   "execution_count": null,
   "metadata": {
    "colab": {
     "base_uri": "https://localhost:8080/"
    },
    "executionInfo": {
     "elapsed": 10,
     "status": "ok",
     "timestamp": 1644697940065,
     "user": {
      "displayName": "Arian Shaafi",
      "photoUrl": "https://lh3.googleusercontent.com/a-/AOh14Gh6vRTht4FZwoqRo8GUWj0T3UZt2r8duMm1Cexs3w=s64",
      "userId": "07327453613112313329"
     },
     "user_tz": -210
    },
    "id": "1QUjkNWuGSg-",
    "outputId": "2f4131a0-169c-484e-d448-9bf85e5ea365"
   },
   "outputs": [
    {
     "name": "stdout",
     "output_type": "stream",
     "text": [
      "(502, 256, 256)\n",
      "(502,)\n"
     ]
    }
   ],
   "source": [
    "X_aug = []\n",
    "y_aug = []\n",
    "\n",
    "for i in range(0, len(y_train)):\n",
    "    X_new = np.fliplr(X_train[i])           # The actual fliping line\n",
    "    X_aug.append(X_new)\n",
    "    y_aug.append(y_train[i])\n",
    "\n",
    "X_aug = np.array(X_aug)\n",
    "y_aug = np.array(y_aug)\n",
    "\n",
    "X_train = np.append(X_train, X_aug, axis=0) # appending augmented images to original training samples\n",
    "print(X_train.shape)\n",
    "\n",
    "y_train = np.append(y_train, y_aug, axis=0)\n",
    "print(y_train.shape)"
   ]
  },
  {
   "cell_type": "markdown",
   "metadata": {
    "id": "w_YNGnFaHKF7"
   },
   "source": [
    "### Did all those loading and preprocessing steps on test data, as well.\n",
    "### Except data augmentation because I feel it is kind of not so wise thing to apply data augmentation to test data."
   ]
  },
  {
   "cell_type": "code",
   "execution_count": null,
   "metadata": {
    "id": "kIULP3myGYi-"
   },
   "outputs": [],
   "source": [
    "X_test = [] # To store validation and test images\n",
    "y_test = [] # To store validation and test labels\n",
    "\n",
    "val_path = '/content/drive/MyDrive/Covid19-dataset/test/'\n",
    "\n",
    "for folder in os.scandir(val_path):\n",
    "    for entry in os.scandir(val_path + folder.name):\n",
    "\n",
    "        X_test.append(read_and_preprocess(val_path + folder.name + '/' + entry.name))\n",
    "        \n",
    "        if folder.name[0]=='C':\n",
    "            y_test.append(0)\n",
    "        elif folder.name[0]=='V':\n",
    "            y_test.append(1)\n",
    "        else:\n",
    "            y_test.append(2)\n",
    "            \n",
    "X_test = np.array(X_test)\n",
    "y_test = np.array(y_test)"
   ]
  },
  {
   "cell_type": "code",
   "execution_count": null,
   "metadata": {
    "colab": {
     "base_uri": "https://localhost:8080/",
     "height": 316
    },
    "executionInfo": {
     "elapsed": 9,
     "status": "ok",
     "timestamp": 1644697944987,
     "user": {
      "displayName": "Arian Shaafi",
      "photoUrl": "https://lh3.googleusercontent.com/a-/AOh14Gh6vRTht4FZwoqRo8GUWj0T3UZt2r8duMm1Cexs3w=s64",
      "userId": "07327453613112313329"
     },
     "user_tz": -210
    },
    "id": "uhL_TZoGHese",
    "outputId": "be9f5db7-7497-443c-c743-07ff511832c5"
   },
   "outputs": [
    {
     "name": "stdout",
     "output_type": "stream",
     "text": [
      "(66, 256, 256)\n"
     ]
    },
    {
     "data": {
      "text/plain": [
       "<BarContainer object of 3 artists>"
      ]
     },
     "execution_count": 12,
     "metadata": {},
     "output_type": "execute_result"
    },
    {
     "data": {
      "image/png": "[encoded data removed]",
      "text/plain": [
       "<Figure size 432x288 with 1 Axes>"
      ]
     },
     "metadata": {
      "needs_background": "light"
     },
     "output_type": "display_data"
    }
   ],
   "source": [
    "print(X_test.shape) # We have 66 images for validation and testing\n",
    "\n",
    "covid_count = len(y_test[y_test==0])\n",
    "pneumonia_count = len(y_test[y_test==1])\n",
    "normal_count = len(y_test[y_test==2])\n",
    "\n",
    "plt.title(\"Validation Images for Each Label\")\n",
    "plt.bar([\"Covid\", \"Viral Pneumonia\", \"Normal\"],[covid_count, pneumonia_count, normal_count])\n",
    "\n",
    "# We have more number of covid samples that Pneumonia and Normal in test dataset as well"
   ]
  },
  {
   "cell_type": "code",
   "execution_count": null,
   "metadata": {
    "colab": {
     "base_uri": "https://localhost:8080/"
    },
    "executionInfo": {
     "elapsed": 5,
     "status": "ok",
     "timestamp": 1644697947328,
     "user": {
      "displayName": "Arian Shaafi",
      "photoUrl": "https://lh3.googleusercontent.com/a-/AOh14Gh6vRTht4FZwoqRo8GUWj0T3UZt2r8duMm1Cexs3w=s64",
      "userId": "07327453613112313329"
     },
     "user_tz": -210
    },
    "id": "Ueq49NvCUyAw",
    "outputId": "bf1c7d40-a67c-43de-c918-0734072d9e47"
   },
   "outputs": [
    {
     "name": "stdout",
     "output_type": "stream",
     "text": [
      "(502, 65536)\n",
      "(66, 65536)\n"
     ]
    }
   ],
   "source": [
    "X_train = X_train.flatten().reshape(502,65536)\n",
    "print(X_train.shape)\n",
    "X_test = X_test.flatten().reshape(66,65536)\n",
    "print(X_test.shape)"
   ]
  },
  {
   "cell_type": "markdown",
   "metadata": {
    "id": "1vl5BoQFT7Ts"
   },
   "source": [
    "### 1. B) Model Initialization: SVM and Logistic regression. Loading and setting parameters. \n",
    "### 1. C) Training our models: Measuring elapced time during the fitting process.\n",
    "### 1. D) Testing our models: Evaluate and report performance metrics."
   ]
  },
  {
   "cell_type": "markdown",
   "metadata": {
    "id": "cNsXMOZmUNWT"
   },
   "source": [
    "> #### I've used random search to find best parameters on both SVM and Logistic Regression.\n",
    "> #### For SVM the search done for C value uniform of 2 with 10, gamma value with 0.1 and 1, and for kernel did a grid search on rbf, poly and linear.\n",
    "> #### For Logistic Regression for C value used uniform of 0 with 4 and grid search on the regularization of L1 and L2 also known as ridge and lasso."
   ]
  },
  {
   "cell_type": "code",
   "execution_count": null,
   "metadata": {
    "id": "H1GslKL1TxS1"
   },
   "outputs": [],
   "source": [
    "mySVM = SVC(gamma='auto', random_state=44)\n",
    "rand_list = {\"C\": uniform(2, 10),\n",
    "             \"gamma\": uniform(0.1, 1),\n",
    "             \"kernel\": ['linear', 'poly', 'rbf']}\n",
    "\n",
    "SVM_search = RandomizedSearchCV(mySVM, param_distributions = rand_list, n_iter = 10, cv = 3, verbose=3, random_state=44)"
   ]
  },
  {
   "cell_type": "code",
   "execution_count": null,
   "metadata": {
    "colab": {
     "base_uri": "https://localhost:8080/"
    },
    "executionInfo": {
     "elapsed": 221568,
     "status": "ok",
     "timestamp": 1644695321033,
     "user": {
      "displayName": "Arian Shaafi",
      "photoUrl": "https://lh3.googleusercontent.com/a-/AOh14Gh6vRTht4FZwoqRo8GUWj0T3UZt2r8duMm1Cexs3w=s64",
      "userId": "07327453613112313329"
     },
     "user_tz": -210
    },
    "id": "jAu-7lTOaLxq",
    "outputId": "50c39fce-c68f-4b2b-801b-3fb9146e3264"
   },
   "outputs": [
    {
     "name": "stdout",
     "output_type": "stream",
     "text": [
      "Fitting 3 folds for each of 10 candidates, totalling 30 fits\n",
      "[CV 1/3] END C=10.348421486656495, gamma=0.20479610436986975, kernel=linear;, score=0.917 total time=   3.4s\n",
      "[CV 2/3] END C=10.348421486656495, gamma=0.20479610436986975, kernel=linear;, score=0.934 total time=   5.1s\n",
      "[CV 3/3] END C=10.348421486656495, gamma=0.20479610436986975, kernel=linear;, score=0.940 total time=   3.2s\n",
      "[CV 1/3] END C=3.8441869586192694, gamma=0.3963759273978946, kernel=linear;, score=0.917 total time=   3.2s\n",
      "[CV 2/3] END C=3.8441869586192694, gamma=0.3963759273978946, kernel=linear;, score=0.934 total time=   3.2s\n",
      "[CV 3/3] END C=3.8441869586192694, gamma=0.3963759273978946, kernel=linear;, score=0.940 total time=   3.2s\n",
      "[CV 1/3] END C=5.937795510882514, gamma=0.5090726098608986, kernel=rbf;, score=0.440 total time=  16.5s\n",
      "[CV 2/3] END C=5.937795510882514, gamma=0.5090726098608986, kernel=rbf;, score=0.443 total time=  16.2s\n",
      "[CV 3/3] END C=5.937795510882514, gamma=0.5090726098608986, kernel=rbf;, score=0.443 total time=  16.1s\n",
      "[CV 1/3] END C=8.31521012310841, gamma=0.8986246602807306, kernel=poly;, score=0.923 total time=   3.2s\n",
      "[CV 2/3] END C=8.31521012310841, gamma=0.8986246602807306, kernel=poly;, score=0.940 total time=   3.2s\n",
      "[CV 3/3] END C=8.31521012310841, gamma=0.8986246602807306, kernel=poly;, score=0.946 total time=   3.4s\n",
      "[CV 1/3] END C=3.134637011199704, gamma=0.3178988693465241, kernel=linear;, score=0.917 total time=   3.0s\n",
      "[CV 2/3] END C=3.134637011199704, gamma=0.3178988693465241, kernel=linear;, score=0.934 total time=   3.1s\n",
      "[CV 3/3] END C=3.134637011199704, gamma=0.3178988693465241, kernel=linear;, score=0.940 total time=   3.1s\n",
      "[CV 1/3] END C=9.337549548100734, gamma=0.49984115125107964, kernel=rbf;, score=0.440 total time=  17.2s\n",
      "[CV 2/3] END C=9.337549548100734, gamma=0.49984115125107964, kernel=rbf;, score=0.443 total time=  16.2s\n",
      "[CV 3/3] END C=9.337549548100734, gamma=0.49984115125107964, kernel=rbf;, score=0.443 total time=  16.5s\n",
      "[CV 1/3] END C=8.464105624033934, gamma=0.31382481213060853, kernel=linear;, score=0.917 total time=   3.1s\n",
      "[CV 2/3] END C=8.464105624033934, gamma=0.31382481213060853, kernel=linear;, score=0.934 total time=   3.1s\n",
      "[CV 3/3] END C=8.464105624033934, gamma=0.31382481213060853, kernel=linear;, score=0.940 total time=   3.2s\n",
      "[CV 1/3] END C=2.108185867901611, gamma=0.9011292402349715, kernel=rbf;, score=0.440 total time=  16.4s\n",
      "[CV 2/3] END C=2.108185867901611, gamma=0.9011292402349715, kernel=rbf;, score=0.443 total time=  16.5s\n",
      "[CV 3/3] END C=2.108185867901611, gamma=0.9011292402349715, kernel=rbf;, score=0.443 total time=  16.5s\n",
      "[CV 1/3] END C=10.738631851563182, gamma=0.3584503058670736, kernel=linear;, score=0.917 total time=   3.1s\n",
      "[CV 2/3] END C=10.738631851563182, gamma=0.3584503058670736, kernel=linear;, score=0.934 total time=   3.1s\n",
      "[CV 3/3] END C=10.738631851563182, gamma=0.3584503058670736, kernel=linear;, score=0.940 total time=   3.2s\n",
      "[CV 1/3] END C=9.999928806921417, gamma=0.48678921124970953, kernel=linear;, score=0.917 total time=   3.1s\n",
      "[CV 2/3] END C=9.999928806921417, gamma=0.48678921124970953, kernel=linear;, score=0.934 total time=   3.1s\n",
      "[CV 3/3] END C=9.999928806921417, gamma=0.48678921124970953, kernel=linear;, score=0.940 total time=   3.2s\n"
     ]
    },
    {
     "data": {
      "text/plain": [
       "RandomizedSearchCV(cv=3, estimator=SVC(gamma='auto', random_state=44),\n",
       "                   param_distributions={'C': <scipy.stats._distn_infrastructure.rv_frozen object at 0x7fc1cd55a2d0>,\n",
       "                                        'gamma': <scipy.stats._distn_infrastructure.rv_frozen object at 0x7fc1cd55a150>,\n",
       "                                        'kernel': ['linear', 'poly', 'rbf']},\n",
       "                   random_state=44, verbose=3)"
      ]
     },
     "execution_count": 69,
     "metadata": {},
     "output_type": "execute_result"
    }
   ],
   "source": [
    "SVM_search.fit(X_train, y_train)"
   ]
  },
  {
   "cell_type": "markdown",
   "metadata": {
    "id": "Dlfqt_2mWggk"
   },
   "source": [
    "> ## Result shows that the best model found with the C value: 8.315, gamma: 0.89 and poly kernel with the accuracy: 0.92 which is considerebly good.\n",
    "> ## As it is shown in the table above the fiting process got around 3.2 seconds to run.\n",
    "> ## Other fiting times are also listed above as we can see rbf kernel is way more slower than others with around 17 seconds."
   ]
  },
  {
   "cell_type": "code",
   "execution_count": null,
   "metadata": {
    "colab": {
     "base_uri": "https://localhost:8080/"
    },
    "executionInfo": {
     "elapsed": 360,
     "status": "ok",
     "timestamp": 1644696815837,
     "user": {
      "displayName": "Arian Shaafi",
      "photoUrl": "https://lh3.googleusercontent.com/a-/AOh14Gh6vRTht4FZwoqRo8GUWj0T3UZt2r8duMm1Cexs3w=s64",
      "userId": "07327453613112313329"
     },
     "user_tz": -210
    },
    "id": "tssyvf4UiAth",
    "outputId": "9ac2e5cc-b3f8-4d01-82a3-e80913063ed1"
   },
   "outputs": [
    {
     "name": "stdout",
     "output_type": "stream",
     "text": [
      "{'C': 8.31521012310841, 'gamma': 0.8986246602807306, 'kernel': 'poly'}\n"
     ]
    }
   ],
   "source": [
    "print(SVM_search.best_params_)"
   ]
  },
  {
   "cell_type": "code",
   "execution_count": null,
   "metadata": {
    "colab": {
     "base_uri": "https://localhost:8080/"
    },
    "executionInfo": {
     "elapsed": 603,
     "status": "ok",
     "timestamp": 1644696847802,
     "user": {
      "displayName": "Arian Shaafi",
      "photoUrl": "https://lh3.googleusercontent.com/a-/AOh14Gh6vRTht4FZwoqRo8GUWj0T3UZt2r8duMm1Cexs3w=s64",
      "userId": "07327453613112313329"
     },
     "user_tz": -210
    },
    "id": "Us0YPjXEiXNg",
    "outputId": "25e2eb5a-fde6-44fb-f23d-65b94daf9aa1"
   },
   "outputs": [
    {
     "name": "stdout",
     "output_type": "stream",
     "text": [
      "Best accuracy on SVM : 0.9242424242424242\n"
     ]
    }
   ],
   "source": [
    "SVM_preds = SVM_search.predict(X_test)\n",
    "\n",
    "SVM_accuracy = accuracy_score(y_test, SVM_preds)\n",
    "print(\"Best accuracy on SVM :\", SVM_accuracy)"
   ]
  },
  {
   "cell_type": "markdown",
   "metadata": {
    "id": "dAMnmegxXXQp"
   },
   "source": [
    "### Best found hyperparameters on SVM model Confusion matrix:"
   ]
  },
  {
   "cell_type": "code",
   "execution_count": null,
   "metadata": {
    "colab": {
     "base_uri": "https://localhost:8080/",
     "height": 445
    },
    "executionInfo": {
     "elapsed": 968,
     "status": "ok",
     "timestamp": 1644697053970,
     "user": {
      "displayName": "Arian Shaafi",
      "photoUrl": "https://lh3.googleusercontent.com/a-/AOh14Gh6vRTht4FZwoqRo8GUWj0T3UZt2r8duMm1Cexs3w=s64",
      "userId": "07327453613112313329"
     },
     "user_tz": -210
    },
    "id": "15Fj7mcVlN5S",
    "outputId": "f6cdd438-7991-422d-b3a5-d5372bb3f47e"
   },
   "outputs": [
    {
     "data": {
      "text/plain": [
       "<matplotlib.axes._subplots.AxesSubplot at 0x7fc1c547e1d0>"
      ]
     },
     "execution_count": 78,
     "metadata": {},
     "output_type": "execute_result"
    },
    {
     "data": {
      "image/png": "[encoded data removed]",
      "text/plain": [
       "<Figure size 504x504 with 2 Axes>"
      ]
     },
     "metadata": {
      "needs_background": "light"
     },
     "output_type": "display_data"
    }
   ],
   "source": [
    "SVM_cm = confusion_matrix(y_test, SVM_preds)\n",
    "plt.figure(figsize = (7,7))\n",
    "sns.heatmap(SVM_cm, annot=True, cmap='Blues')"
   ]
  },
  {
   "cell_type": "code",
   "execution_count": null,
   "metadata": {
    "id": "095Hj8APaSsJ"
   },
   "outputs": [],
   "source": [
    "myLR = LogisticRegression(solver='saga', tol=1e-2, max_iter=200, random_state=44)\n",
    "rand_list = dict(C=uniform(loc=0, scale=4), penalty=['l2', 'l1'])\n",
    "\n",
    "LR_search = RandomizedSearchCV(myLR, param_distributions = rand_list, n_iter = 10, cv = 3, verbose=3, random_state=44)"
   ]
  },
  {
   "cell_type": "code",
   "execution_count": null,
   "metadata": {
    "colab": {
     "base_uri": "https://localhost:8080/"
    },
    "executionInfo": {
     "elapsed": 1462665,
     "status": "ok",
     "timestamp": 1644696809745,
     "user": {
      "displayName": "Arian Shaafi",
      "photoUrl": "https://lh3.googleusercontent.com/a-/AOh14Gh6vRTht4FZwoqRo8GUWj0T3UZt2r8duMm1Cexs3w=s64",
      "userId": "07327453613112313329"
     },
     "user_tz": -210
    },
    "id": "6liiN58jd2Vq",
    "outputId": "867fd7a9-f75d-4dbe-f813-10ddad5e9aa6"
   },
   "outputs": [
    {
     "name": "stdout",
     "output_type": "stream",
     "text": [
      "Fitting 3 folds for each of 10 candidates, totalling 30 fits\n",
      "[CV 1/3] END ..C=3.3393685946625977, penalty=l1;, score=0.911 total time= 1.0min\n",
      "[CV 2/3] END ..C=3.3393685946625977, penalty=l1;, score=0.928 total time=  53.4s\n",
      "[CV 3/3] END ..C=3.3393685946625977, penalty=l1;, score=0.886 total time= 1.1min\n",
      "[CV 1/3] END .C=0.12709920837403743, penalty=l1;, score=0.887 total time=  56.8s\n",
      "[CV 2/3] END .C=0.12709920837403743, penalty=l1;, score=0.868 total time=  53.4s\n",
      "[CV 3/3] END .C=0.12709920837403743, penalty=l1;, score=0.814 total time=  54.0s\n",
      "[CV 1/3] END ..C=1.4420033450251428, penalty=l1;, score=0.893 total time= 1.0min\n",
      "[CV 2/3] END ..C=1.4420033450251428, penalty=l1;, score=0.934 total time=  52.8s\n",
      "[CV 3/3] END ..C=1.4420033450251428, penalty=l1;, score=0.892 total time= 1.0min\n",
      "[CV 1/3] END ..C=1.1855037095915786, penalty=l2;, score=0.911 total time=  28.3s\n",
      "[CV 2/3] END ..C=1.1855037095915786, penalty=l2;, score=0.934 total time=  27.3s\n",
      "[CV 3/3] END ..C=1.1855037095915786, penalty=l2;, score=0.898 total time=  29.0s\n",
      "[CV 1/3] END ..C=1.5751182043530054, penalty=l2;, score=0.911 total time=  28.5s\n",
      "[CV 2/3] END ..C=1.5751182043530054, penalty=l2;, score=0.934 total time=  27.5s\n",
      "[CV 3/3] END ..C=1.5751182043530054, penalty=l2;, score=0.898 total time=  29.2s\n",
      "[CV 1/3] END ..C=1.1302408727974416, penalty=l1;, score=0.893 total time= 1.0min\n",
      "[CV 2/3] END ..C=1.1302408727974416, penalty=l1;, score=0.916 total time=  52.9s\n",
      "[CV 3/3] END ..C=1.1302408727974416, penalty=l1;, score=0.898 total time= 1.0min\n",
      "[CV 1/3] END ...C=2.840591973308294, penalty=l2;, score=0.911 total time=  31.8s\n",
      "[CV 2/3] END ...C=2.840591973308294, penalty=l2;, score=0.934 total time=  29.3s\n",
      "[CV 3/3] END ...C=2.840591973308294, penalty=l2;, score=0.898 total time=  35.0s\n",
      "[CV 1/3] END ..C=2.5260840492433636, penalty=l2;, score=0.911 total time=  34.9s\n",
      "[CV 2/3] END ..C=2.5260840492433636, penalty=l2;, score=0.934 total time=  33.4s\n",
      "[CV 3/3] END ..C=2.5260840492433636, penalty=l2;, score=0.898 total time=  35.2s\n",
      "[CV 1/3] END ...C=1.710606084246436, penalty=l1;, score=0.893 total time= 1.0min\n",
      "[CV 2/3] END ...C=1.710606084246436, penalty=l1;, score=0.934 total time=  55.3s\n",
      "[CV 3/3] END ...C=1.710606084246436, penalty=l1;, score=0.892 total time= 1.1min\n",
      "[CV 1/3] END ...C=0.699173933801021, penalty=l1;, score=0.899 total time= 1.0min\n",
      "[CV 2/3] END ...C=0.699173933801021, penalty=l1;, score=0.910 total time=  52.6s\n",
      "[CV 3/3] END ...C=0.699173933801021, penalty=l1;, score=0.892 total time=  53.8s\n"
     ]
    },
    {
     "data": {
      "text/plain": [
       "RandomizedSearchCV(cv=3,\n",
       "                   estimator=LogisticRegression(max_iter=200, random_state=44,\n",
       "                                                solver='saga', tol=0.01),\n",
       "                   param_distributions={'C': <scipy.stats._distn_infrastructure.rv_frozen object at 0x7fc1cd56e990>,\n",
       "                                        'penalty': ['l2', 'l1']},\n",
       "                   random_state=44, verbose=3)"
      ]
     },
     "execution_count": 71,
     "metadata": {},
     "output_type": "execute_result"
    }
   ],
   "source": [
    "LR_search.fit(X_train, y_train)"
   ]
  },
  {
   "cell_type": "markdown",
   "metadata": {
    "id": "o70hC7UiXkJm"
   },
   "source": [
    "> ## Result shows that the best model found with the C value: 1.185, L2 Regularization with the accuracy: 0.90 which is considerebly good but not better than SVM.\n",
    "> ## As it is shown in the table above the fiting process got around 28 seconds to run which is way slower than SVM.\n",
    "> ## Other fiting times are also listed above as we can see L1 penalty is way more slower than others with around a minute."
   ]
  },
  {
   "cell_type": "code",
   "execution_count": null,
   "metadata": {
    "colab": {
     "base_uri": "https://localhost:8080/"
    },
    "executionInfo": {
     "elapsed": 386,
     "status": "ok",
     "timestamp": 1644696859771,
     "user": {
      "displayName": "Arian Shaafi",
      "photoUrl": "https://lh3.googleusercontent.com/a-/AOh14Gh6vRTht4FZwoqRo8GUWj0T3UZt2r8duMm1Cexs3w=s64",
      "userId": "07327453613112313329"
     },
     "user_tz": -210
    },
    "id": "m2hHjBc3e1vV",
    "outputId": "093a97d7-8e03-4f12-beae-b1dc218823a8"
   },
   "outputs": [
    {
     "name": "stdout",
     "output_type": "stream",
     "text": [
      "{'C': 1.1855037095915786, 'penalty': 'l2'}\n"
     ]
    }
   ],
   "source": [
    "print(LR_search.best_params_)"
   ]
  },
  {
   "cell_type": "code",
   "execution_count": null,
   "metadata": {
    "colab": {
     "base_uri": "https://localhost:8080/"
    },
    "executionInfo": {
     "elapsed": 436,
     "status": "ok",
     "timestamp": 1644696905678,
     "user": {
      "displayName": "Arian Shaafi",
      "photoUrl": "https://lh3.googleusercontent.com/a-/AOh14Gh6vRTht4FZwoqRo8GUWj0T3UZt2r8duMm1Cexs3w=s64",
      "userId": "07327453613112313329"
     },
     "user_tz": -210
    },
    "id": "GJ6jRwUtkm-y",
    "outputId": "d42b7f71-a583-40dd-dc3c-728f41e7550c"
   },
   "outputs": [
    {
     "name": "stdout",
     "output_type": "stream",
     "text": [
      "Best accuracy on Logistic Regression : 0.8939393939393939\n"
     ]
    }
   ],
   "source": [
    "LR_preds = LR_search.predict(X_test)\n",
    "\n",
    "LR_accuracy = accuracy_score(y_test, LR_preds)\n",
    "print(\"Best accuracy on Logistic Regression :\", LR_accuracy)"
   ]
  },
  {
   "cell_type": "markdown",
   "metadata": {
    "id": "g6UeitkNYKLJ"
   },
   "source": [
    "### Best found hyperparameters on Linear regression model Confusion matrix:"
   ]
  },
  {
   "cell_type": "code",
   "execution_count": null,
   "metadata": {
    "colab": {
     "base_uri": "https://localhost:8080/",
     "height": 445
    },
    "executionInfo": {
     "elapsed": 514,
     "status": "ok",
     "timestamp": 1644697751818,
     "user": {
      "displayName": "Arian Shaafi",
      "photoUrl": "https://lh3.googleusercontent.com/a-/AOh14Gh6vRTht4FZwoqRo8GUWj0T3UZt2r8duMm1Cexs3w=s64",
      "userId": "07327453613112313329"
     },
     "user_tz": -210
    },
    "id": "Ufdd1OtQkyLj",
    "outputId": "380e5606-dd0c-4336-d38a-525c32a0d17e"
   },
   "outputs": [
    {
     "data": {
      "text/plain": [
       "<matplotlib.axes._subplots.AxesSubplot at 0x7fc1c2050fd0>"
      ]
     },
     "execution_count": 94,
     "metadata": {},
     "output_type": "execute_result"
    },
    {
     "data": {
      "image/png": "[encoded data removed]",
      "text/plain": [
       "<Figure size 504x504 with 2 Axes>"
      ]
     },
     "metadata": {
      "needs_background": "light"
     },
     "output_type": "display_data"
    }
   ],
   "source": [
    "LR_cm = confusion_matrix(y_test, LR_preds)\n",
    "plt.figure(figsize = (7,7))\n",
    "sns.heatmap(LR_cm, annot=True, cmap='Blues')"
   ]
  },
  {
   "cell_type": "markdown",
   "metadata": {
    "id": "rMHz3Tj7YReS"
   },
   "source": [
    "### 2) Using dimentionality reduction and see how the performance will change on our models."
   ]
  },
  {
   "cell_type": "markdown",
   "metadata": {
    "id": "nSwWfAajY8RK"
   },
   "source": [
    "### I used scikit learn pca module to try pca on our data.\n",
    "### I chose 200 principle components and tested those two high accuracy models and found that there is no significant change happened in the result."
   ]
  },
  {
   "cell_type": "code",
   "execution_count": null,
   "metadata": {
    "colab": {
     "base_uri": "https://localhost:8080/"
    },
    "executionInfo": {
     "elapsed": 7349,
     "status": "ok",
     "timestamp": 1644697979460,
     "user": {
      "displayName": "Arian Shaafi",
      "photoUrl": "https://lh3.googleusercontent.com/a-/AOh14Gh6vRTht4FZwoqRo8GUWj0T3UZt2r8duMm1Cexs3w=s64",
      "userId": "07327453613112313329"
     },
     "user_tz": -210
    },
    "id": "RSCmCJ7PldSs",
    "outputId": "983832c6-204e-40dd-d543-407f6fe716cf"
   },
   "outputs": [
    {
     "data": {
      "text/plain": [
       "((502, 200), (66, 200))"
      ]
     },
     "execution_count": 15,
     "metadata": {},
     "output_type": "execute_result"
    }
   ],
   "source": [
    "pca = PCA(n_components=200)\n",
    "X_train_pca = pca.fit_transform(X_train)\n",
    "X_test_pca = pca.transform(X_test)\n",
    "X_train_pca.shape, X_test_pca.shape"
   ]
  },
  {
   "cell_type": "code",
   "execution_count": null,
   "metadata": {
    "colab": {
     "base_uri": "https://localhost:8080/"
    },
    "executionInfo": {
     "elapsed": 11,
     "status": "ok",
     "timestamp": 1644697979461,
     "user": {
      "displayName": "Arian Shaafi",
      "photoUrl": "https://lh3.googleusercontent.com/a-/AOh14Gh6vRTht4FZwoqRo8GUWj0T3UZt2r8duMm1Cexs3w=s64",
      "userId": "07327453613112313329"
     },
     "user_tz": -210
    },
    "id": "-Z-IR0gfmpO2",
    "outputId": "5f70cce1-9d04-4304-a150-afd9975c18cf"
   },
   "outputs": [
    {
     "data": {
      "text/plain": [
       "SVC(C=8.31521012310841, gamma=0.8986246602807306, kernel='poly',\n",
       "    random_state=44)"
      ]
     },
     "execution_count": 16,
     "metadata": {},
     "output_type": "execute_result"
    }
   ],
   "source": [
    "mySVM_pca = SVC(C=8.31521012310841, gamma=0.8986246602807306, kernel='poly', random_state=44)\n",
    "mySVM_pca.fit(X_train_pca, y_train)"
   ]
  },
  {
   "cell_type": "code",
   "execution_count": null,
   "metadata": {
    "colab": {
     "base_uri": "https://localhost:8080/"
    },
    "executionInfo": {
     "elapsed": 378,
     "status": "ok",
     "timestamp": 1644698014900,
     "user": {
      "displayName": "Arian Shaafi",
      "photoUrl": "https://lh3.googleusercontent.com/a-/AOh14Gh6vRTht4FZwoqRo8GUWj0T3UZt2r8duMm1Cexs3w=s64",
      "userId": "07327453613112313329"
     },
     "user_tz": -210
    },
    "id": "MMGtte3ynAB9",
    "outputId": "2e927557-98b5-42f8-9eee-5f1641becebc"
   },
   "outputs": [
    {
     "name": "stdout",
     "output_type": "stream",
     "text": [
      "Accuracy on same SVM : 0.9242424242424242\n"
     ]
    }
   ],
   "source": [
    "SVM_preds_pca = mySVM_pca.predict(X_test_pca)\n",
    "\n",
    "SVM_accuracy_pca = accuracy_score(y_test, SVM_preds_pca)\n",
    "print(\"Accuracy on same SVM :\", SVM_accuracy_pca)"
   ]
  },
  {
   "cell_type": "code",
   "execution_count": null,
   "metadata": {
    "colab": {
     "base_uri": "https://localhost:8080/",
     "height": 449
    },
    "executionInfo": {
     "elapsed": 596,
     "status": "ok",
     "timestamp": 1644698017318,
     "user": {
      "displayName": "Arian Shaafi",
      "photoUrl": "https://lh3.googleusercontent.com/a-/AOh14Gh6vRTht4FZwoqRo8GUWj0T3UZt2r8duMm1Cexs3w=s64",
      "userId": "07327453613112313329"
     },
     "user_tz": -210
    },
    "id": "2662DH3ynGpH",
    "outputId": "430e581c-6fbd-44e6-d273-1b52e4a0163c"
   },
   "outputs": [
    {
     "data": {
      "text/plain": [
       "<matplotlib.axes._subplots.AxesSubplot at 0x7fab78809510>"
      ]
     },
     "execution_count": 19,
     "metadata": {},
     "output_type": "execute_result"
    },
    {
     "data": {
      "image/png": "[encoded data removed]",
      "text/plain": [
       "<Figure size 504x504 with 2 Axes>"
      ]
     },
     "metadata": {
      "needs_background": "light"
     },
     "output_type": "display_data"
    }
   ],
   "source": [
    "SVM_cm_pca = confusion_matrix(y_test, SVM_preds_pca)\n",
    "plt.figure(figsize = (7,7))\n",
    "sns.heatmap(SVM_cm_pca, annot=True, cmap='Blues')"
   ]
  },
  {
   "cell_type": "code",
   "execution_count": null,
   "metadata": {
    "colab": {
     "base_uri": "https://localhost:8080/"
    },
    "executionInfo": {
     "elapsed": 458,
     "status": "ok",
     "timestamp": 1644698019041,
     "user": {
      "displayName": "Arian Shaafi",
      "photoUrl": "https://lh3.googleusercontent.com/a-/AOh14Gh6vRTht4FZwoqRo8GUWj0T3UZt2r8duMm1Cexs3w=s64",
      "userId": "07327453613112313329"
     },
     "user_tz": -210
    },
    "id": "lLI5uOk9l9f6",
    "outputId": "16ddcf83-1935-49a2-c84b-b26d9b08e26f"
   },
   "outputs": [
    {
     "data": {
      "text/plain": [
       "LogisticRegression(C=1.1855037095915786, max_iter=200, random_state=44,\n",
       "                   solver='saga', tol=0.01)"
      ]
     },
     "execution_count": 20,
     "metadata": {},
     "output_type": "execute_result"
    }
   ],
   "source": [
    "myLR_pca = LogisticRegression(C=1.1855037095915786, penalty='l2', solver='saga', tol=1e-2, max_iter=200, random_state=44)\n",
    "myLR_pca.fit(X_train_pca, y_train)"
   ]
  },
  {
   "cell_type": "code",
   "execution_count": null,
   "metadata": {
    "colab": {
     "base_uri": "https://localhost:8080/"
    },
    "executionInfo": {
     "elapsed": 9,
     "status": "ok",
     "timestamp": 1644698020233,
     "user": {
      "displayName": "Arian Shaafi",
      "photoUrl": "https://lh3.googleusercontent.com/a-/AOh14Gh6vRTht4FZwoqRo8GUWj0T3UZt2r8duMm1Cexs3w=s64",
      "userId": "07327453613112313329"
     },
     "user_tz": -210
    },
    "id": "Iv4oq7mLnIrx",
    "outputId": "9d170097-d3a7-4426-aed3-b79c48751737"
   },
   "outputs": [
    {
     "name": "stdout",
     "output_type": "stream",
     "text": [
      "Accuracy on same Logistic Regression : 0.9242424242424242\n"
     ]
    }
   ],
   "source": [
    "LR_preds_pca = myLR_pca.predict(X_test_pca)\n",
    "\n",
    "LR_accuracy_pca = accuracy_score(y_test, LR_preds_pca)\n",
    "print(\"Accuracy on same Logistic Regression :\", LR_accuracy_pca)"
   ]
  },
  {
   "cell_type": "code",
   "execution_count": null,
   "metadata": {
    "colab": {
     "base_uri": "https://localhost:8080/",
     "height": 445
    },
    "executionInfo": {
     "elapsed": 500,
     "status": "ok",
     "timestamp": 1644698022042,
     "user": {
      "displayName": "Arian Shaafi",
      "photoUrl": "https://lh3.googleusercontent.com/a-/AOh14Gh6vRTht4FZwoqRo8GUWj0T3UZt2r8duMm1Cexs3w=s64",
      "userId": "07327453613112313329"
     },
     "user_tz": -210
    },
    "id": "2_1FB5DJnKVe",
    "outputId": "d82649d4-c563-4605-b77c-5fa24b23550d"
   },
   "outputs": [
    {
     "data": {
      "text/plain": [
       "<matplotlib.axes._subplots.AxesSubplot at 0x7fab6846f590>"
      ]
     },
     "execution_count": 22,
     "metadata": {},
     "output_type": "execute_result"
    },
    {
     "data": {
      "image/png": "[encoded data removed]",
      "text/plain": [
       "<Figure size 504x504 with 2 Axes>"
      ]
     },
     "metadata": {
      "needs_background": "light"
     },
     "output_type": "display_data"
    }
   ],
   "source": [
    "LR_cm_pca = confusion_matrix(y_test, LR_preds_pca)\n",
    "plt.figure(figsize = (7,7))\n",
    "sns.heatmap(LR_cm_pca, annot=True, cmap='Blues')"
   ]
  },
  {
   "cell_type": "markdown",
   "metadata": {
    "id": "819RxQTapLGy"
   },
   "source": [
    "---\n",
    "### 3.\n",
    "---"
   ]
  },
  {
   "cell_type": "markdown",
   "metadata": {
    "id": "cukHCPHPpGuA"
   },
   "source": [
    "> #### I used transfer learning and fine tuning for this part.\n",
    "> #### I Used VGG16 as base model, freeze all layers except last three conv layers, added classification layers.\n",
    "> #### Fitted the data to train classification layers and fine tune those unfreezed layers.\n",
    "> #### Got the result of **100%**"
   ]
  },
  {
   "cell_type": "code",
   "execution_count": null,
   "metadata": {
    "colab": {
     "base_uri": "https://localhost:8080/"
    },
    "executionInfo": {
     "elapsed": 9062,
     "status": "ok",
     "timestamp": 1644699965042,
     "user": {
      "displayName": "Arian Shaafi",
      "photoUrl": "https://lh3.googleusercontent.com/a-/AOh14Gh6vRTht4FZwoqRo8GUWj0T3UZt2r8duMm1Cexs3w=s64",
      "userId": "07327453613112313329"
     },
     "user_tz": -210
    },
    "id": "GFamHDfzn2ai",
    "outputId": "87ac4e85-74a5-422e-b653-b1d8210710ae"
   },
   "outputs": [
    {
     "data": {
      "text/plain": [
       "<tensorflow.python.eager.context._EagerDeviceContext at 0x7fd0938216e0>"
      ]
     },
     "execution_count": 1,
     "metadata": {},
     "output_type": "execute_result"
    }
   ],
   "source": [
    "import tensorflow as tf\n",
    "from tensorflow.keras import layers, optimizers\n",
    "from tensorflow.keras.applications.vgg16 import VGG16\n",
    "from tensorflow.keras.layers import *\n",
    "from tensorflow.keras.models import Model, load_model\n",
    "from tensorflow.keras.callbacks import EarlyStopping, ModelCheckpoint\n",
    "\n",
    "tf.device('/device:GPU:0')                                         # For using GPU on Colab"
   ]
  },
  {
   "cell_type": "code",
   "execution_count": null,
   "metadata": {
    "id": "MUqQMI3Dv672"
   },
   "outputs": [],
   "source": [
    "def read_and_preprocess(img_path):\n",
    "    img = cv2.imread(img_path, cv2.IMREAD_COLOR) # reading the image\n",
    "    img = cv2.resize(img, (256, 256)) # resizing it (I just like it to be powers of 2)\n",
    "    img = np.array(img, dtype='float32') # convert its datatype so that it could be normalized\n",
    "    img = img/255 # normalization (now every pixel is in the range of 0 and 1)\n",
    "    return img"
   ]
  },
  {
   "cell_type": "code",
   "execution_count": null,
   "metadata": {
    "id": "tN7-SODTtMXw"
   },
   "outputs": [],
   "source": [
    "X_train = []\n",
    "y_train = []\n",
    "\n",
    "train_path = \"/content/drive/MyDrive/Covid19-dataset/train/\" # path containing training image samples\n",
    "\n",
    "for folder in os.scandir(train_path):\n",
    "    for entry in os.scandir(train_path + folder.name):\n",
    "\n",
    "        X_train.append(read_and_preprocess(train_path + folder.name + '/' + entry.name))\n",
    "        \n",
    "        if folder.name[0]=='C':\n",
    "            y_train.append(0)\n",
    "        elif folder.name[0]=='V':\n",
    "            y_train.append(1)\n",
    "        else:\n",
    "            y_train.append(2)\n",
    "\n",
    "X_train = np.array(X_train)\n",
    "y_train = np.array(y_train)\n",
    "\n",
    "X_aug = []\n",
    "y_aug = []\n",
    "\n",
    "for i in range(0, len(y_train)):\n",
    "    X_new = np.fliplr(X_train[i])\n",
    "    X_aug.append(X_new)\n",
    "    y_aug.append(y_train[i])\n",
    "\n",
    "X_aug = np.array(X_aug)\n",
    "y_aug = np.array(y_aug)\n",
    "\n",
    "X_train = np.append(X_train, X_aug, axis=0)\n",
    "y_train = np.append(y_train, y_aug, axis=0)"
   ]
  },
  {
   "cell_type": "code",
   "execution_count": null,
   "metadata": {
    "id": "mXVk4O79tsfY"
   },
   "outputs": [],
   "source": [
    "X_test = []\n",
    "y_test = []\n",
    "\n",
    "val_path = '/content/drive/MyDrive/Covid19-dataset/test/'\n",
    "\n",
    "for folder in os.scandir(val_path):\n",
    "    for entry in os.scandir(val_path + folder.name):\n",
    "\n",
    "        X_test.append(read_and_preprocess(val_path + folder.name + '/' + entry.name))\n",
    "        \n",
    "        if folder.name[0]=='C':\n",
    "            y_test.append(0)\n",
    "        elif folder.name[0]=='V':\n",
    "            y_test.append(1)\n",
    "        else:\n",
    "            y_test.append(2)\n",
    "            \n",
    "X_test = np.array(X_test)\n",
    "y_test = np.array(y_test)"
   ]
  },
  {
   "cell_type": "code",
   "execution_count": null,
   "metadata": {
    "id": "hvqMh3ghp2nX"
   },
   "outputs": [],
   "source": [
    "basemodel = VGG16(weights = 'imagenet', include_top = False, input_tensor = Input(shape=(256, 256,3)))"
   ]
  },
  {
   "cell_type": "code",
   "execution_count": null,
   "metadata": {
    "colab": {
     "base_uri": "https://localhost:8080/"
    },
    "executionInfo": {
     "elapsed": 6,
     "status": "ok",
     "timestamp": 1644700989481,
     "user": {
      "displayName": "Arian Shaafi",
      "photoUrl": "https://lh3.googleusercontent.com/a-/AOh14Gh6vRTht4FZwoqRo8GUWj0T3UZt2r8duMm1Cexs3w=s64",
      "userId": "07327453613112313329"
     },
     "user_tz": -210
    },
    "id": "fJcCIQl1p_9w",
    "outputId": "707d3bf8-08a7-4999-95ab-6f48af6802dd"
   },
   "outputs": [
    {
     "name": "stdout",
     "output_type": "stream",
     "text": [
      "0 input_4 False\n",
      "1 block1_conv1 False\n",
      "2 block1_conv2 False\n",
      "3 block1_pool False\n",
      "4 block2_conv1 False\n",
      "5 block2_conv2 False\n",
      "6 block2_pool False\n",
      "7 block3_conv1 False\n",
      "8 block3_conv2 False\n",
      "9 block3_conv3 False\n",
      "10 block3_pool False\n",
      "11 block4_conv1 False\n",
      "12 block4_conv2 False\n",
      "13 block4_conv3 False\n",
      "14 block4_pool False\n",
      "15 block5_conv1 True\n",
      "16 block5_conv2 True\n",
      "17 block5_conv3 True\n",
      "18 block5_pool True\n"
     ]
    }
   ],
   "source": [
    "basemodel.trainable = True\n",
    "\n",
    "for layer in basemodel.layers[:-4]:\n",
    "    layer.trainable = False\n",
    "\n",
    "for i, layer in enumerate(basemodel.layers):\n",
    "    print(i, layer.name, layer.trainable)"
   ]
  },
  {
   "cell_type": "code",
   "execution_count": null,
   "metadata": {
    "id": "i5AVXF9Yq7nK"
   },
   "outputs": [],
   "source": [
    "# Add classification head to the base model\n",
    "\n",
    "headmodel = basemodel.output\n",
    "headmodel = Flatten(name= 'flatten')(headmodel)\n",
    "headmodel = Dense(3, activation = 'softmax')(headmodel)\n",
    "\n",
    "model = Model(inputs = basemodel.input, outputs = headmodel)"
   ]
  },
  {
   "cell_type": "code",
   "execution_count": null,
   "metadata": {
    "colab": {
     "base_uri": "https://localhost:8080/"
    },
    "executionInfo": {
     "elapsed": 3,
     "status": "ok",
     "timestamp": 1644701032657,
     "user": {
      "displayName": "Arian Shaafi",
      "photoUrl": "https://lh3.googleusercontent.com/a-/AOh14Gh6vRTht4FZwoqRo8GUWj0T3UZt2r8duMm1Cexs3w=s64",
      "userId": "07327453613112313329"
     },
     "user_tz": -210
    },
    "id": "3UY2haWDrAvO",
    "outputId": "54181dee-0a55-4a70-bbc2-00208b89c606"
   },
   "outputs": [
    {
     "name": "stdout",
     "output_type": "stream",
     "text": [
      "Model: \"model_5\"\n",
      "_________________________________________________________________\n",
      " Layer (type)                Output Shape              Param #   \n",
      "=================================================================\n",
      " input_4 (InputLayer)        [(None, 256, 256, 3)]     0         \n",
      "                                                                 \n",
      " block1_conv1 (Conv2D)       (None, 256, 256, 64)      1792      \n",
      "                                                                 \n",
      " block1_conv2 (Conv2D)       (None, 256, 256, 64)      36928     \n",
      "                                                                 \n",
      " block1_pool (MaxPooling2D)  (None, 128, 128, 64)      0         \n",
      "                                                                 \n",
      " block2_conv1 (Conv2D)       (None, 128, 128, 128)     73856     \n",
      "                                                                 \n",
      " block2_conv2 (Conv2D)       (None, 128, 128, 128)     147584    \n",
      "                                                                 \n",
      " block2_pool (MaxPooling2D)  (None, 64, 64, 128)       0         \n",
      "                                                                 \n",
      " block3_conv1 (Conv2D)       (None, 64, 64, 256)       295168    \n",
      "                                                                 \n",
      " block3_conv2 (Conv2D)       (None, 64, 64, 256)       590080    \n",
      "                                                                 \n",
      " block3_conv3 (Conv2D)       (None, 64, 64, 256)       590080    \n",
      "                                                                 \n",
      " block3_pool (MaxPooling2D)  (None, 32, 32, 256)       0         \n",
      "                                                                 \n",
      " block4_conv1 (Conv2D)       (None, 32, 32, 512)       1180160   \n",
      "                                                                 \n",
      " block4_conv2 (Conv2D)       (None, 32, 32, 512)       2359808   \n",
      "                                                                 \n",
      " block4_conv3 (Conv2D)       (None, 32, 32, 512)       2359808   \n",
      "                                                                 \n",
      " block4_pool (MaxPooling2D)  (None, 16, 16, 512)       0         \n",
      "                                                                 \n",
      " block5_conv1 (Conv2D)       (None, 16, 16, 512)       2359808   \n",
      "                                                                 \n",
      " block5_conv2 (Conv2D)       (None, 16, 16, 512)       2359808   \n",
      "                                                                 \n",
      " block5_conv3 (Conv2D)       (None, 16, 16, 512)       2359808   \n",
      "                                                                 \n",
      " block5_pool (MaxPooling2D)  (None, 8, 8, 512)         0         \n",
      "                                                                 \n",
      " flatten (Flatten)           (None, 32768)             0         \n",
      "                                                                 \n",
      " dense_5 (Dense)             (None, 3)                 98307     \n",
      "                                                                 \n",
      "=================================================================\n",
      "Total params: 14,812,995\n",
      "Trainable params: 7,177,731\n",
      "Non-trainable params: 7,635,264\n",
      "_________________________________________________________________\n"
     ]
    }
   ],
   "source": [
    "model.summary()"
   ]
  },
  {
   "cell_type": "code",
   "execution_count": null,
   "metadata": {
    "id": "0ioLUaXnrBLP"
   },
   "outputs": [],
   "source": [
    "opt = optimizers.Adam(learning_rate=0.0001)\n",
    "# compile the model\n",
    "model.compile(loss = 'sparse_categorical_crossentropy', optimizer=opt, metrics= [\"accuracy\"])\n",
    "\n",
    "# use early stopping to exit training if validation loss is not decreasing even after certain epochs (patience)\n",
    "earlystopping = EarlyStopping(monitor='val_loss', mode='min', verbose=1, patience=5)\n",
    "\n",
    "# save the best model with least validation loss\n",
    "checkpointer = ModelCheckpoint(filepath=\"covid_classifier_weights.h5\", verbose=1, save_best_only=True)"
   ]
  },
  {
   "cell_type": "code",
   "execution_count": null,
   "metadata": {
    "colab": {
     "base_uri": "https://localhost:8080/"
    },
    "executionInfo": {
     "elapsed": 344218,
     "status": "ok",
     "timestamp": 1644701379095,
     "user": {
      "displayName": "Arian Shaafi",
      "photoUrl": "https://lh3.googleusercontent.com/a-/AOh14Gh6vRTht4FZwoqRo8GUWj0T3UZt2r8duMm1Cexs3w=s64",
      "userId": "07327453613112313329"
     },
     "user_tz": -210
    },
    "id": "lMteQBBMrRQV",
    "outputId": "ef086981-465a-4a34-fa1e-0873f8a15ea2"
   },
   "outputs": [
    {
     "name": "stdout",
     "output_type": "stream",
     "text": [
      "Epoch 1/50\n",
      "32/32 [==============================] - ETA: 0s - loss: 0.2692 - accuracy: 0.8865\n",
      "Epoch 00001: val_loss improved from inf to 0.08914, saving model to covid_classifier_weights.h5\n",
      "32/32 [==============================] - 8s 226ms/step - loss: 0.2692 - accuracy: 0.8865 - val_loss: 0.0891 - val_accuracy: 0.9394\n",
      "Epoch 2/50\n",
      "32/32 [==============================] - ETA: 0s - loss: 0.0334 - accuracy: 0.9920\n",
      "Epoch 00002: val_loss improved from 0.08914 to 0.03786, saving model to covid_classifier_weights.h5\n",
      "32/32 [==============================] - 7s 216ms/step - loss: 0.0334 - accuracy: 0.9920 - val_loss: 0.0379 - val_accuracy: 1.0000\n",
      "Epoch 3/50\n",
      "32/32 [==============================] - ETA: 0s - loss: 0.0052 - accuracy: 1.0000\n",
      "Epoch 00003: val_loss improved from 0.03786 to 0.01647, saving model to covid_classifier_weights.h5\n",
      "32/32 [==============================] - 7s 228ms/step - loss: 0.0052 - accuracy: 1.0000 - val_loss: 0.0165 - val_accuracy: 1.0000\n",
      "Epoch 4/50\n",
      "32/32 [==============================] - ETA: 0s - loss: 0.0013 - accuracy: 1.0000\n",
      "Epoch 00004: val_loss improved from 0.01647 to 0.01106, saving model to covid_classifier_weights.h5\n",
      "32/32 [==============================] - 7s 217ms/step - loss: 0.0013 - accuracy: 1.0000 - val_loss: 0.0111 - val_accuracy: 1.0000\n",
      "Epoch 5/50\n",
      "32/32 [==============================] - ETA: 0s - loss: 7.0834e-04 - accuracy: 1.0000\n",
      "Epoch 00005: val_loss improved from 0.01106 to 0.00967, saving model to covid_classifier_weights.h5\n",
      "32/32 [==============================] - 7s 218ms/step - loss: 7.0834e-04 - accuracy: 1.0000 - val_loss: 0.0097 - val_accuracy: 1.0000\n",
      "Epoch 6/50\n",
      "32/32 [==============================] - ETA: 0s - loss: 5.0908e-04 - accuracy: 1.0000\n",
      "Epoch 00006: val_loss improved from 0.00967 to 0.00835, saving model to covid_classifier_weights.h5\n",
      "32/32 [==============================] - 7s 217ms/step - loss: 5.0908e-04 - accuracy: 1.0000 - val_loss: 0.0084 - val_accuracy: 1.0000\n",
      "Epoch 7/50\n",
      "32/32 [==============================] - ETA: 0s - loss: 3.7650e-04 - accuracy: 1.0000\n",
      "Epoch 00007: val_loss improved from 0.00835 to 0.00769, saving model to covid_classifier_weights.h5\n",
      "32/32 [==============================] - 7s 215ms/step - loss: 3.7650e-04 - accuracy: 1.0000 - val_loss: 0.0077 - val_accuracy: 1.0000\n",
      "Epoch 8/50\n",
      "32/32 [==============================] - ETA: 0s - loss: 2.8938e-04 - accuracy: 1.0000\n",
      "Epoch 00008: val_loss improved from 0.00769 to 0.00695, saving model to covid_classifier_weights.h5\n",
      "32/32 [==============================] - 7s 216ms/step - loss: 2.8938e-04 - accuracy: 1.0000 - val_loss: 0.0070 - val_accuracy: 1.0000\n",
      "Epoch 9/50\n",
      "32/32 [==============================] - ETA: 0s - loss: 2.2616e-04 - accuracy: 1.0000\n",
      "Epoch 00009: val_loss improved from 0.00695 to 0.00609, saving model to covid_classifier_weights.h5\n",
      "32/32 [==============================] - 7s 215ms/step - loss: 2.2616e-04 - accuracy: 1.0000 - val_loss: 0.0061 - val_accuracy: 1.0000\n",
      "Epoch 10/50\n",
      "32/32 [==============================] - ETA: 0s - loss: 1.7238e-04 - accuracy: 1.0000\n",
      "Epoch 00010: val_loss improved from 0.00609 to 0.00589, saving model to covid_classifier_weights.h5\n",
      "32/32 [==============================] - 7s 215ms/step - loss: 1.7238e-04 - accuracy: 1.0000 - val_loss: 0.0059 - val_accuracy: 1.0000\n",
      "Epoch 11/50\n",
      "32/32 [==============================] - ETA: 0s - loss: 1.3468e-04 - accuracy: 1.0000\n",
      "Epoch 00011: val_loss improved from 0.00589 to 0.00476, saving model to covid_classifier_weights.h5\n",
      "32/32 [==============================] - 7s 216ms/step - loss: 1.3468e-04 - accuracy: 1.0000 - val_loss: 0.0048 - val_accuracy: 1.0000\n",
      "Epoch 12/50\n",
      "32/32 [==============================] - ETA: 0s - loss: 9.9782e-05 - accuracy: 1.0000\n",
      "Epoch 00012: val_loss improved from 0.00476 to 0.00380, saving model to covid_classifier_weights.h5\n",
      "32/32 [==============================] - 7s 214ms/step - loss: 9.9782e-05 - accuracy: 1.0000 - val_loss: 0.0038 - val_accuracy: 1.0000\n",
      "Epoch 13/50\n",
      "32/32 [==============================] - ETA: 0s - loss: 7.8518e-05 - accuracy: 1.0000\n",
      "Epoch 00013: val_loss improved from 0.00380 to 0.00368, saving model to covid_classifier_weights.h5\n",
      "32/32 [==============================] - 7s 216ms/step - loss: 7.8518e-05 - accuracy: 1.0000 - val_loss: 0.0037 - val_accuracy: 1.0000\n",
      "Epoch 14/50\n",
      "32/32 [==============================] - ETA: 0s - loss: 5.9762e-05 - accuracy: 1.0000\n",
      "Epoch 00014: val_loss did not improve from 0.00368\n",
      "32/32 [==============================] - 7s 207ms/step - loss: 5.9762e-05 - accuracy: 1.0000 - val_loss: 0.0039 - val_accuracy: 1.0000\n",
      "Epoch 15/50\n",
      "32/32 [==============================] - ETA: 0s - loss: 4.5871e-05 - accuracy: 1.0000\n",
      "Epoch 00015: val_loss improved from 0.00368 to 0.00281, saving model to covid_classifier_weights.h5\n",
      "32/32 [==============================] - 7s 216ms/step - loss: 4.5871e-05 - accuracy: 1.0000 - val_loss: 0.0028 - val_accuracy: 1.0000\n",
      "Epoch 16/50\n",
      "32/32 [==============================] - ETA: 0s - loss: 3.3947e-05 - accuracy: 1.0000\n",
      "Epoch 00016: val_loss improved from 0.00281 to 0.00270, saving model to covid_classifier_weights.h5\n",
      "32/32 [==============================] - 7s 216ms/step - loss: 3.3947e-05 - accuracy: 1.0000 - val_loss: 0.0027 - val_accuracy: 1.0000\n",
      "Epoch 17/50\n",
      "32/32 [==============================] - ETA: 0s - loss: 2.7893e-05 - accuracy: 1.0000\n",
      "Epoch 00017: val_loss improved from 0.00270 to 0.00220, saving model to covid_classifier_weights.h5\n",
      "32/32 [==============================] - 7s 216ms/step - loss: 2.7893e-05 - accuracy: 1.0000 - val_loss: 0.0022 - val_accuracy: 1.0000\n",
      "Epoch 18/50\n",
      "32/32 [==============================] - ETA: 0s - loss: 2.0096e-05 - accuracy: 1.0000\n",
      "Epoch 00018: val_loss improved from 0.00220 to 0.00204, saving model to covid_classifier_weights.h5\n",
      "32/32 [==============================] - 7s 216ms/step - loss: 2.0096e-05 - accuracy: 1.0000 - val_loss: 0.0020 - val_accuracy: 1.0000\n",
      "Epoch 19/50\n",
      "32/32 [==============================] - ETA: 0s - loss: 1.6505e-05 - accuracy: 1.0000\n",
      "Epoch 00019: val_loss improved from 0.00204 to 0.00203, saving model to covid_classifier_weights.h5\n",
      "32/32 [==============================] - 7s 216ms/step - loss: 1.6505e-05 - accuracy: 1.0000 - val_loss: 0.0020 - val_accuracy: 1.0000\n",
      "Epoch 20/50\n",
      "32/32 [==============================] - ETA: 0s - loss: 1.1779e-05 - accuracy: 1.0000\n",
      "Epoch 00020: val_loss improved from 0.00203 to 0.00109, saving model to covid_classifier_weights.h5\n",
      "32/32 [==============================] - 7s 221ms/step - loss: 1.1779e-05 - accuracy: 1.0000 - val_loss: 0.0011 - val_accuracy: 1.0000\n",
      "Epoch 21/50\n",
      "32/32 [==============================] - ETA: 0s - loss: 9.4048e-06 - accuracy: 1.0000\n",
      "Epoch 00021: val_loss did not improve from 0.00109\n",
      "32/32 [==============================] - 7s 209ms/step - loss: 9.4048e-06 - accuracy: 1.0000 - val_loss: 0.0013 - val_accuracy: 1.0000\n",
      "Epoch 22/50\n",
      "32/32 [==============================] - ETA: 0s - loss: 8.3210e-06 - accuracy: 1.0000\n",
      "Epoch 00022: val_loss improved from 0.00109 to 0.00101, saving model to covid_classifier_weights.h5\n",
      "32/32 [==============================] - 7s 215ms/step - loss: 8.3210e-06 - accuracy: 1.0000 - val_loss: 0.0010 - val_accuracy: 1.0000\n",
      "Epoch 23/50\n",
      "32/32 [==============================] - ETA: 0s - loss: 5.9591e-06 - accuracy: 1.0000\n",
      "Epoch 00023: val_loss did not improve from 0.00101\n",
      "32/32 [==============================] - 7s 206ms/step - loss: 5.9591e-06 - accuracy: 1.0000 - val_loss: 0.0010 - val_accuracy: 1.0000\n",
      "Epoch 24/50\n",
      "32/32 [==============================] - ETA: 0s - loss: 4.8338e-06 - accuracy: 1.0000\n",
      "Epoch 00024: val_loss improved from 0.00101 to 0.00070, saving model to covid_classifier_weights.h5\n",
      "32/32 [==============================] - 7s 216ms/step - loss: 4.8338e-06 - accuracy: 1.0000 - val_loss: 6.9945e-04 - val_accuracy: 1.0000\n",
      "Epoch 25/50\n",
      "32/32 [==============================] - ETA: 0s - loss: 4.0825e-06 - accuracy: 1.0000\n",
      "Epoch 00025: val_loss improved from 0.00070 to 0.00064, saving model to covid_classifier_weights.h5\n",
      "32/32 [==============================] - 7s 216ms/step - loss: 4.0825e-06 - accuracy: 1.0000 - val_loss: 6.3874e-04 - val_accuracy: 1.0000\n",
      "Epoch 26/50\n",
      "32/32 [==============================] - ETA: 0s - loss: 3.6513e-06 - accuracy: 1.0000\n",
      "Epoch 00026: val_loss improved from 0.00064 to 0.00063, saving model to covid_classifier_weights.h5\n",
      "32/32 [==============================] - 7s 216ms/step - loss: 3.6513e-06 - accuracy: 1.0000 - val_loss: 6.3300e-04 - val_accuracy: 1.0000\n",
      "Epoch 27/50\n",
      "32/32 [==============================] - ETA: 0s - loss: 2.9185e-06 - accuracy: 1.0000\n",
      "Epoch 00027: val_loss did not improve from 0.00063\n",
      "32/32 [==============================] - 7s 206ms/step - loss: 2.9185e-06 - accuracy: 1.0000 - val_loss: 8.7268e-04 - val_accuracy: 1.0000\n",
      "Epoch 28/50\n",
      "32/32 [==============================] - ETA: 0s - loss: 2.6967e-06 - accuracy: 1.0000\n",
      "Epoch 00028: val_loss improved from 0.00063 to 0.00052, saving model to covid_classifier_weights.h5\n",
      "32/32 [==============================] - 7s 216ms/step - loss: 2.6967e-06 - accuracy: 1.0000 - val_loss: 5.2206e-04 - val_accuracy: 1.0000\n",
      "Epoch 29/50\n",
      "32/32 [==============================] - ETA: 0s - loss: 2.3597e-06 - accuracy: 1.0000\n",
      "Epoch 00029: val_loss improved from 0.00052 to 0.00049, saving model to covid_classifier_weights.h5\n",
      "32/32 [==============================] - 7s 218ms/step - loss: 2.3597e-06 - accuracy: 1.0000 - val_loss: 4.9047e-04 - val_accuracy: 1.0000\n",
      "Epoch 30/50\n",
      "32/32 [==============================] - ETA: 0s - loss: 2.1246e-06 - accuracy: 1.0000\n",
      "Epoch 00030: val_loss improved from 0.00049 to 0.00049, saving model to covid_classifier_weights.h5\n",
      "32/32 [==============================] - 7s 215ms/step - loss: 2.1246e-06 - accuracy: 1.0000 - val_loss: 4.8555e-04 - val_accuracy: 1.0000\n",
      "Epoch 31/50\n",
      "32/32 [==============================] - ETA: 0s - loss: 1.8197e-06 - accuracy: 1.0000\n",
      "Epoch 00031: val_loss improved from 0.00049 to 0.00045, saving model to covid_classifier_weights.h5\n",
      "32/32 [==============================] - 7s 216ms/step - loss: 1.8197e-06 - accuracy: 1.0000 - val_loss: 4.4629e-04 - val_accuracy: 1.0000\n",
      "Epoch 32/50\n",
      "32/32 [==============================] - ETA: 0s - loss: 1.5670e-06 - accuracy: 1.0000\n",
      "Epoch 00032: val_loss improved from 0.00045 to 0.00042, saving model to covid_classifier_weights.h5\n",
      "32/32 [==============================] - 7s 216ms/step - loss: 1.5670e-06 - accuracy: 1.0000 - val_loss: 4.1994e-04 - val_accuracy: 1.0000\n",
      "Epoch 33/50\n",
      "32/32 [==============================] - ETA: 0s - loss: 1.4189e-06 - accuracy: 1.0000\n",
      "Epoch 00033: val_loss improved from 0.00042 to 0.00039, saving model to covid_classifier_weights.h5\n",
      "32/32 [==============================] - 7s 217ms/step - loss: 1.4189e-06 - accuracy: 1.0000 - val_loss: 3.9460e-04 - val_accuracy: 1.0000\n",
      "Epoch 34/50\n",
      "32/32 [==============================] - ETA: 0s - loss: 1.3068e-06 - accuracy: 1.0000\n",
      "Epoch 00034: val_loss did not improve from 0.00039\n",
      "32/32 [==============================] - 7s 207ms/step - loss: 1.3068e-06 - accuracy: 1.0000 - val_loss: 4.2557e-04 - val_accuracy: 1.0000\n",
      "Epoch 35/50\n",
      "32/32 [==============================] - ETA: 0s - loss: 1.1788e-06 - accuracy: 1.0000\n",
      "Epoch 00035: val_loss improved from 0.00039 to 0.00039, saving model to covid_classifier_weights.h5\n",
      "32/32 [==============================] - 7s 217ms/step - loss: 1.1788e-06 - accuracy: 1.0000 - val_loss: 3.9035e-04 - val_accuracy: 1.0000\n",
      "Epoch 36/50\n",
      "32/32 [==============================] - ETA: 0s - loss: 1.0577e-06 - accuracy: 1.0000\n",
      "Epoch 00036: val_loss improved from 0.00039 to 0.00038, saving model to covid_classifier_weights.h5\n",
      "32/32 [==============================] - 7s 217ms/step - loss: 1.0577e-06 - accuracy: 1.0000 - val_loss: 3.7728e-04 - val_accuracy: 1.0000\n",
      "Epoch 37/50\n",
      "32/32 [==============================] - ETA: 0s - loss: 9.8240e-07 - accuracy: 1.0000\n",
      "Epoch 00037: val_loss improved from 0.00038 to 0.00037, saving model to covid_classifier_weights.h5\n",
      "32/32 [==============================] - 7s 216ms/step - loss: 9.8240e-07 - accuracy: 1.0000 - val_loss: 3.6883e-04 - val_accuracy: 1.0000\n",
      "Epoch 38/50\n",
      "32/32 [==============================] - ETA: 0s - loss: 9.0167e-07 - accuracy: 1.0000\n",
      "Epoch 00038: val_loss improved from 0.00037 to 0.00035, saving model to covid_classifier_weights.h5\n",
      "32/32 [==============================] - 7s 217ms/step - loss: 9.0167e-07 - accuracy: 1.0000 - val_loss: 3.4568e-04 - val_accuracy: 1.0000\n",
      "Epoch 39/50\n",
      "32/32 [==============================] - ETA: 0s - loss: 8.2568e-07 - accuracy: 1.0000\n",
      "Epoch 00039: val_loss improved from 0.00035 to 0.00032, saving model to covid_classifier_weights.h5\n",
      "32/32 [==============================] - 7s 217ms/step - loss: 8.2568e-07 - accuracy: 1.0000 - val_loss: 3.1678e-04 - val_accuracy: 1.0000\n",
      "Epoch 40/50\n",
      "32/32 [==============================] - ETA: 0s - loss: 7.8982e-07 - accuracy: 1.0000\n",
      "Epoch 00040: val_loss did not improve from 0.00032\n",
      "32/32 [==============================] - 7s 207ms/step - loss: 7.8982e-07 - accuracy: 1.0000 - val_loss: 4.0581e-04 - val_accuracy: 1.0000\n",
      "Epoch 41/50\n",
      "32/32 [==============================] - ETA: 0s - loss: 7.3971e-07 - accuracy: 1.0000\n",
      "Epoch 00041: val_loss improved from 0.00032 to 0.00029, saving model to covid_classifier_weights.h5\n",
      "32/32 [==============================] - 7s 217ms/step - loss: 7.3971e-07 - accuracy: 1.0000 - val_loss: 2.8886e-04 - val_accuracy: 1.0000\n",
      "Epoch 42/50\n",
      "32/32 [==============================] - ETA: 0s - loss: 6.5945e-07 - accuracy: 1.0000\n",
      "Epoch 00042: val_loss did not improve from 0.00029\n",
      "32/32 [==============================] - 7s 206ms/step - loss: 6.5945e-07 - accuracy: 1.0000 - val_loss: 2.9558e-04 - val_accuracy: 1.0000\n",
      "Epoch 43/50\n",
      "32/32 [==============================] - ETA: 0s - loss: 6.0341e-07 - accuracy: 1.0000\n",
      "Epoch 00043: val_loss improved from 0.00029 to 0.00027, saving model to covid_classifier_weights.h5\n",
      "32/32 [==============================] - 7s 219ms/step - loss: 6.0341e-07 - accuracy: 1.0000 - val_loss: 2.7151e-04 - val_accuracy: 1.0000\n",
      "Epoch 44/50\n",
      "32/32 [==============================] - ETA: 0s - loss: 5.7159e-07 - accuracy: 1.0000\n",
      "Epoch 00044: val_loss did not improve from 0.00027\n",
      "32/32 [==============================] - 7s 207ms/step - loss: 5.7159e-07 - accuracy: 1.0000 - val_loss: 2.8037e-04 - val_accuracy: 1.0000\n",
      "Epoch 45/50\n",
      "32/32 [==============================] - ETA: 0s - loss: 5.3502e-07 - accuracy: 1.0000\n",
      "Epoch 00045: val_loss improved from 0.00027 to 0.00025, saving model to covid_classifier_weights.h5\n",
      "32/32 [==============================] - 7s 217ms/step - loss: 5.3502e-07 - accuracy: 1.0000 - val_loss: 2.5363e-04 - val_accuracy: 1.0000\n",
      "Epoch 46/50\n",
      "32/32 [==============================] - ETA: 0s - loss: 5.0462e-07 - accuracy: 1.0000\n",
      "Epoch 00046: val_loss did not improve from 0.00025\n",
      "32/32 [==============================] - 7s 207ms/step - loss: 5.0462e-07 - accuracy: 1.0000 - val_loss: 2.9888e-04 - val_accuracy: 1.0000\n",
      "Epoch 47/50\n",
      "32/32 [==============================] - ETA: 0s - loss: 4.8159e-07 - accuracy: 1.0000\n",
      "Epoch 00047: val_loss improved from 0.00025 to 0.00024, saving model to covid_classifier_weights.h5\n",
      "32/32 [==============================] - 7s 218ms/step - loss: 4.8159e-07 - accuracy: 1.0000 - val_loss: 2.3888e-04 - val_accuracy: 1.0000\n",
      "Epoch 48/50\n",
      "32/32 [==============================] - ETA: 0s - loss: 4.4335e-07 - accuracy: 1.0000\n",
      "Epoch 00048: val_loss did not improve from 0.00024\n",
      "32/32 [==============================] - 7s 207ms/step - loss: 4.4335e-07 - accuracy: 1.0000 - val_loss: 2.4916e-04 - val_accuracy: 1.0000\n",
      "Epoch 49/50\n",
      "32/32 [==============================] - ETA: 0s - loss: 4.3290e-07 - accuracy: 1.0000\n",
      "Epoch 00049: val_loss improved from 0.00024 to 0.00023, saving model to covid_classifier_weights.h5\n",
      "32/32 [==============================] - 7s 217ms/step - loss: 4.3290e-07 - accuracy: 1.0000 - val_loss: 2.2530e-04 - val_accuracy: 1.0000\n",
      "Epoch 50/50\n",
      "32/32 [==============================] - ETA: 0s - loss: 3.9087e-07 - accuracy: 1.0000\n",
      "Epoch 00050: val_loss improved from 0.00023 to 0.00022, saving model to covid_classifier_weights.h5\n",
      "32/32 [==============================] - 7s 217ms/step - loss: 3.9087e-07 - accuracy: 1.0000 - val_loss: 2.2078e-04 - val_accuracy: 1.0000\n"
     ]
    }
   ],
   "source": [
    "history = model.fit(X_train, y_train, epochs = 50, validation_data=(X_test, y_test), batch_size=16, shuffle=True, callbacks=[earlystopping, checkpointer])"
   ]
  },
  {
   "cell_type": "code",
   "execution_count": null,
   "metadata": {
    "colab": {
     "base_uri": "https://localhost:8080/",
     "height": 295
    },
    "executionInfo": {
     "elapsed": 412,
     "status": "ok",
     "timestamp": 1644701387104,
     "user": {
      "displayName": "Arian Shaafi",
      "photoUrl": "https://lh3.googleusercontent.com/a-/AOh14Gh6vRTht4FZwoqRo8GUWj0T3UZt2r8duMm1Cexs3w=s64",
      "userId": "07327453613112313329"
     },
     "user_tz": -210
    },
    "id": "2mICf8aqrTYh",
    "outputId": "235550e2-db7b-4ce6-96f8-a65417cc1724"
   },
   "outputs": [
    {
     "data": {
      "image/png": "[encoded data removed]",
      "text/plain": [
       "<Figure size 432x288 with 1 Axes>"
      ]
     },
     "metadata": {
      "needs_background": "light"
     },
     "output_type": "display_data"
    }
   ],
   "source": [
    "plt.plot(history.history['loss'])\n",
    "plt.plot(history.history['val_loss'])\n",
    "plt.title('model loss')\n",
    "plt.ylabel('loss')\n",
    "plt.xlabel('epoch')\n",
    "plt.legend(['train', 'test'], loc='upper right')\n",
    "plt.show()"
   ]
  },
  {
   "cell_type": "code",
   "execution_count": null,
   "metadata": {
    "colab": {
     "base_uri": "https://localhost:8080/",
     "height": 295
    },
    "executionInfo": {
     "elapsed": 455,
     "status": "ok",
     "timestamp": 1644701392694,
     "user": {
      "displayName": "Arian Shaafi",
      "photoUrl": "https://lh3.googleusercontent.com/a-/AOh14Gh6vRTht4FZwoqRo8GUWj0T3UZt2r8duMm1Cexs3w=s64",
      "userId": "07327453613112313329"
     },
     "user_tz": -210
    },
    "id": "EaZURcFSrVQA",
    "outputId": "0c43eb46-38df-43ea-ad4b-c0eea2cc27bb"
   },
   "outputs": [
    {
     "data": {
      "image/png": "[encoded data removed]",
      "text/plain": [
       "<Figure size 432x288 with 1 Axes>"
      ]
     },
     "metadata": {
      "needs_background": "light"
     },
     "output_type": "display_data"
    }
   ],
   "source": [
    "plt.plot(history.history['accuracy'])\n",
    "plt.plot(history.history['val_accuracy'])\n",
    "plt.title('model accuracy')\n",
    "plt.ylabel('accuracy')\n",
    "plt.xlabel('epoch')\n",
    "plt.legend(['train', 'test'], loc='upper left')\n",
    "plt.show()"
   ]
  },
  {
   "cell_type": "code",
   "execution_count": null,
   "metadata": {
    "id": "tu-4Fz3HrYJP"
   },
   "outputs": [],
   "source": [
    "# save the model architecture to json file for future use\n",
    "\n",
    "model_json = model.to_json()\n",
    "with open(\"covid_classifier_model.json\",\"w\") as json_file:\n",
    "  json_file.write(model_json)"
   ]
  },
  {
   "cell_type": "code",
   "execution_count": null,
   "metadata": {
    "id": "t1OGeVh3rbZp"
   },
   "outputs": [],
   "source": [
    "# Load pretrained model (best saved one)\n",
    "with open('covid_classifier_model.json', 'r') as json_file:\n",
    "    json_savedModel= json_file.read()\n",
    "# load the model  \n",
    "model = tf.keras.models.model_from_json(json_savedModel)\n",
    "model.load_weights('covid_classifier_weights.h5')\n",
    "model.compile(loss = 'sparse_categorical_crossentropy', optimizer=opt, metrics= [\"accuracy\"])"
   ]
  },
  {
   "cell_type": "code",
   "execution_count": null,
   "metadata": {
    "id": "WooHY4hLrdiV"
   },
   "outputs": [],
   "source": [
    "predictions = model.predict(X_test)\n",
    "# Obtain the predicted class from the model prediction\n",
    "predict = []\n",
    "\n",
    "for i in predictions:\n",
    "  predict.append(np.argmax(i))\n",
    "\n",
    "predict = np.asarray(predict)"
   ]
  },
  {
   "cell_type": "code",
   "execution_count": null,
   "metadata": {
    "colab": {
     "base_uri": "https://localhost:8080/"
    },
    "executionInfo": {
     "elapsed": 419,
     "status": "ok",
     "timestamp": 1644701443142,
     "user": {
      "displayName": "Arian Shaafi",
      "photoUrl": "https://lh3.googleusercontent.com/a-/AOh14Gh6vRTht4FZwoqRo8GUWj0T3UZt2r8duMm1Cexs3w=s64",
      "userId": "07327453613112313329"
     },
     "user_tz": -210
    },
    "id": "X6q5SKQFrhuY",
    "outputId": "7f6d798b-44ad-4f31-ab52-d7494318960b"
   },
   "outputs": [
    {
     "name": "stdout",
     "output_type": "stream",
     "text": [
      "Transfered VGG16 with fine tuning on last block (3 conv layers) accuracy:  1.0\n"
     ]
    }
   ],
   "source": [
    "transfer_accuracy = accuracy_score(y_test, predict)\n",
    "print(\"Transfered VGG16 with fine tuning on last block (3 conv layers) accuracy: \", transfer_accuracy)"
   ]
  },
  {
   "cell_type": "code",
   "execution_count": null,
   "metadata": {
    "colab": {
     "base_uri": "https://localhost:8080/",
     "height": 445
    },
    "executionInfo": {
     "elapsed": 833,
     "status": "ok",
     "timestamp": 1644701444392,
     "user": {
      "displayName": "Arian Shaafi",
      "photoUrl": "https://lh3.googleusercontent.com/a-/AOh14Gh6vRTht4FZwoqRo8GUWj0T3UZt2r8duMm1Cexs3w=s64",
      "userId": "07327453613112313329"
     },
     "user_tz": -210
    },
    "id": "kg-FUxZer_Gx",
    "outputId": "5824add0-2eb3-4475-8f84-550f9e852314"
   },
   "outputs": [
    {
     "data": {
      "text/plain": [
       "<matplotlib.axes._subplots.AxesSubplot at 0x7fcf82ee3fd0>"
      ]
     },
     "execution_count": 59,
     "metadata": {},
     "output_type": "execute_result"
    },
    {
     "data": {
      "image/png": "[encoded data removed]",
      "text/plain": [
       "<Figure size 504x504 with 2 Axes>"
      ]
     },
     "metadata": {
      "needs_background": "light"
     },
     "output_type": "display_data"
    }
   ],
   "source": [
    "transfer_cm = confusion_matrix(y_test, predict)\n",
    "plt.figure(figsize = (7,7))\n",
    "sns.heatmap(transfer_cm, annot=True, cmap='Blues')"
   ]
  }
 ],
 "metadata": {
  "accelerator": "GPU",
  "colab": {
   "authorship_tag": "ABX9TyMU5YtFnRMGPGJ0hAtrJCXJ",
   "collapsed_sections": [],
   "mount_file_id": "1At4lAsMXVe9gU5P_s98CgaVcsosmkoYs",
   "name": "ML00_ArianShaafi_HWFinal.ipynb",
   "provenance": []
  },
  "kernelspec": {
   "display_name": "Python 3 (ipykernel)",
   "language": "python",
   "name": "python3"
  },
  "language_info": {
   "codemirror_mode": {
    "name": "ipython",
    "version": 3
   },
   "file_extension": ".py",
   "mimetype": "text/x-python",
   "name": "python",
   "nbconvert_exporter": "python",
   "pygments_lexer": "ipython3",
   "version": "3.9.16"
  }
 },
 "nbformat": 4,
 "nbformat_minor": 1
}
